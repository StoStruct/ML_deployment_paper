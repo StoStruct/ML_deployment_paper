{
 "cells": [
  {
   "cell_type": "code",
   "execution_count": 152,
   "metadata": {
    "scrolled": true
   },
   "outputs": [],
   "source": [
    "##################################################\n",
    "#Developed by: Mohsen Zaker Esteghamati (revised on 10/10/2024)\n",
    "#Email: mohsen.zaker@usu.edu\n",
    "\n",
    "#This is part of the code used to train RF and SVM models to predict shear wall drift capacit in the following paper:\n",
    "\n",
    "#    Zaker Esteghamati, M., Bean, B., Burton, H., Naser, M.Z. (2024) Beyond development: Challenges in deploying machine \n",
    "#    learning models for structural engineering applications, Journal of Structural Engineering\n",
    "\n",
    "#if you use any part of this code, please cite the above mentioned reference. \n",
    "##################################################\n",
    "\n",
    "import pandas as pd\n",
    "import matplotlib.pyplot as plt\n",
    "import numpy as np\n",
    "import seaborn as sns\n",
    "import lightgbm as lgb\n",
    "from sklearn.model_selection import cross_val_score\n",
    "from sklearn.model_selection import RepeatedKFold\n",
    "from sklearn.model_selection import RandomizedSearchCV\n",
    "from sklearn.model_selection import GridSearchCV\n",
    "from sklearn.metrics import mean_squared_error\n",
    "from sklearn.metrics import mean_absolute_error as mae\n",
    "from sklearn import metrics\n",
    "import shap"
   ]
  },
  {
   "cell_type": "code",
   "execution_count": 2,
   "metadata": {},
   "outputs": [],
   "source": [
    "#reading the database for shear \n",
    "Inventory = pd.read_excel('210611 Shear Wall Drift Capacity Dataset.xlsx',sheet_name='Sheet2')\n",
    "Inventory=Inventory.dropna()"
   ]
  },
  {
   "cell_type": "code",
   "execution_count": 137,
   "metadata": {},
   "outputs": [
    {
     "data": {
      "text/html": [
       "<div>\n",
       "<style scoped>\n",
       "    .dataframe tbody tr th:only-of-type {\n",
       "        vertical-align: middle;\n",
       "    }\n",
       "\n",
       "    .dataframe tbody tr th {\n",
       "        vertical-align: top;\n",
       "    }\n",
       "\n",
       "    .dataframe thead th {\n",
       "        text-align: right;\n",
       "    }\n",
       "</style>\n",
       "<table border=\"1\" class=\"dataframe\">\n",
       "  <thead>\n",
       "    <tr style=\"text-align: right;\">\n",
       "      <th></th>\n",
       "      <th>lambda_b</th>\n",
       "      <th>v _sqr_fc\\n</th>\n",
       "      <th>Load_Ratio</th>\n",
       "      <th>Aprov_Areq</th>\n",
       "      <th>s_db</th>\n",
       "      <th>ρ_long_BE</th>\n",
       "      <th>ρ_t_web</th>\n",
       "      <th>c_lw</th>\n",
       "      <th>hx_b</th>\n",
       "      <th>lbe_lw</th>\n",
       "      <th>fu_fy</th>\n",
       "      <th>Ultimate_drift</th>\n",
       "    </tr>\n",
       "  </thead>\n",
       "  <tbody>\n",
       "    <tr>\n",
       "      <th>0</th>\n",
       "      <td>86.614173</td>\n",
       "      <td>3.6</td>\n",
       "      <td>9.55</td>\n",
       "      <td>1.46</td>\n",
       "      <td>4.02</td>\n",
       "      <td>3.44</td>\n",
       "      <td>0.27</td>\n",
       "      <td>21.65</td>\n",
       "      <td>0.669291</td>\n",
       "      <td>0.162402</td>\n",
       "      <td>1.200345</td>\n",
       "      <td>1.67</td>\n",
       "    </tr>\n",
       "    <tr>\n",
       "      <th>1</th>\n",
       "      <td>101.181102</td>\n",
       "      <td>4.8</td>\n",
       "      <td>12.98</td>\n",
       "      <td>1.30</td>\n",
       "      <td>4.02</td>\n",
       "      <td>3.44</td>\n",
       "      <td>0.27</td>\n",
       "      <td>25.30</td>\n",
       "      <td>0.669291</td>\n",
       "      <td>0.162402</td>\n",
       "      <td>1.200345</td>\n",
       "      <td>1.60</td>\n",
       "    </tr>\n",
       "    <tr>\n",
       "      <th>2</th>\n",
       "      <td>102.493438</td>\n",
       "      <td>4.4</td>\n",
       "      <td>10.05</td>\n",
       "      <td>1.28</td>\n",
       "      <td>3.50</td>\n",
       "      <td>1.54</td>\n",
       "      <td>0.27</td>\n",
       "      <td>25.62</td>\n",
       "      <td>0.748031</td>\n",
       "      <td>0.189633</td>\n",
       "      <td>1.516949</td>\n",
       "      <td>1.40</td>\n",
       "    </tr>\n",
       "    <tr>\n",
       "      <th>3</th>\n",
       "      <td>91.338583</td>\n",
       "      <td>4.3</td>\n",
       "      <td>11.72</td>\n",
       "      <td>1.78</td>\n",
       "      <td>4.02</td>\n",
       "      <td>3.44</td>\n",
       "      <td>0.27</td>\n",
       "      <td>22.83</td>\n",
       "      <td>0.669291</td>\n",
       "      <td>0.162402</td>\n",
       "      <td>1.630670</td>\n",
       "      <td>1.10</td>\n",
       "    </tr>\n",
       "    <tr>\n",
       "      <th>4</th>\n",
       "      <td>62.829380</td>\n",
       "      <td>5.0</td>\n",
       "      <td>2.76</td>\n",
       "      <td>0.97</td>\n",
       "      <td>2.62</td>\n",
       "      <td>2.44</td>\n",
       "      <td>0.62</td>\n",
       "      <td>27.78</td>\n",
       "      <td>0.618421</td>\n",
       "      <td>0.257218</td>\n",
       "      <td>1.448747</td>\n",
       "      <td>2.16</td>\n",
       "    </tr>\n",
       "    <tr>\n",
       "      <th>...</th>\n",
       "      <td>...</td>\n",
       "      <td>...</td>\n",
       "      <td>...</td>\n",
       "      <td>...</td>\n",
       "      <td>...</td>\n",
       "      <td>...</td>\n",
       "      <td>...</td>\n",
       "      <td>...</td>\n",
       "      <td>...</td>\n",
       "      <td>...</td>\n",
       "      <td>...</td>\n",
       "      <td>...</td>\n",
       "    </tr>\n",
       "    <tr>\n",
       "      <th>159</th>\n",
       "      <td>8.175000</td>\n",
       "      <td>13.9</td>\n",
       "      <td>19.17</td>\n",
       "      <td>0.74</td>\n",
       "      <td>2.35</td>\n",
       "      <td>6.13</td>\n",
       "      <td>2.62</td>\n",
       "      <td>32.70</td>\n",
       "      <td>0.250000</td>\n",
       "      <td>0.138000</td>\n",
       "      <td>1.393805</td>\n",
       "      <td>2.49</td>\n",
       "    </tr>\n",
       "    <tr>\n",
       "      <th>160</th>\n",
       "      <td>8.550000</td>\n",
       "      <td>11.8</td>\n",
       "      <td>21.00</td>\n",
       "      <td>0.98</td>\n",
       "      <td>2.50</td>\n",
       "      <td>2.26</td>\n",
       "      <td>2.03</td>\n",
       "      <td>34.20</td>\n",
       "      <td>0.370000</td>\n",
       "      <td>0.185000</td>\n",
       "      <td>1.452174</td>\n",
       "      <td>2.86</td>\n",
       "    </tr>\n",
       "    <tr>\n",
       "      <th>161</th>\n",
       "      <td>8.150000</td>\n",
       "      <td>12.6</td>\n",
       "      <td>21.01</td>\n",
       "      <td>0.92</td>\n",
       "      <td>3.33</td>\n",
       "      <td>2.26</td>\n",
       "      <td>1.01</td>\n",
       "      <td>32.60</td>\n",
       "      <td>0.370000</td>\n",
       "      <td>0.185000</td>\n",
       "      <td>1.452174</td>\n",
       "      <td>2.56</td>\n",
       "    </tr>\n",
       "    <tr>\n",
       "      <th>162</th>\n",
       "      <td>0.178335</td>\n",
       "      <td>8.4</td>\n",
       "      <td>0.00</td>\n",
       "      <td>1.44</td>\n",
       "      <td>7.01</td>\n",
       "      <td>3.82</td>\n",
       "      <td>0.71</td>\n",
       "      <td>4.08</td>\n",
       "      <td>0.140044</td>\n",
       "      <td>0.046597</td>\n",
       "      <td>1.588764</td>\n",
       "      <td>2.31</td>\n",
       "    </tr>\n",
       "    <tr>\n",
       "      <th>163</th>\n",
       "      <td>0.242352</td>\n",
       "      <td>8.1</td>\n",
       "      <td>7.28</td>\n",
       "      <td>1.02</td>\n",
       "      <td>8.03</td>\n",
       "      <td>2.72</td>\n",
       "      <td>0.62</td>\n",
       "      <td>5.55</td>\n",
       "      <td>0.140044</td>\n",
       "      <td>0.045026</td>\n",
       "      <td>1.681395</td>\n",
       "      <td>2.83</td>\n",
       "    </tr>\n",
       "  </tbody>\n",
       "</table>\n",
       "<p>155 rows × 12 columns</p>\n",
       "</div>"
      ],
      "text/plain": [
       "       lambda_b  v _sqr_fc\\n  Load_Ratio  Aprov_Areq  s_db  ρ_long_BE  \\\n",
       "0     86.614173          3.6        9.55        1.46  4.02       3.44   \n",
       "1    101.181102          4.8       12.98        1.30  4.02       3.44   \n",
       "2    102.493438          4.4       10.05        1.28  3.50       1.54   \n",
       "3     91.338583          4.3       11.72        1.78  4.02       3.44   \n",
       "4     62.829380          5.0        2.76        0.97  2.62       2.44   \n",
       "..          ...          ...         ...         ...   ...        ...   \n",
       "159    8.175000         13.9       19.17        0.74  2.35       6.13   \n",
       "160    8.550000         11.8       21.00        0.98  2.50       2.26   \n",
       "161    8.150000         12.6       21.01        0.92  3.33       2.26   \n",
       "162    0.178335          8.4        0.00        1.44  7.01       3.82   \n",
       "163    0.242352          8.1        7.28        1.02  8.03       2.72   \n",
       "\n",
       "     ρ_t_web   c_lw      hx_b    lbe_lw     fu_fy  Ultimate_drift  \n",
       "0       0.27  21.65  0.669291  0.162402  1.200345            1.67  \n",
       "1       0.27  25.30  0.669291  0.162402  1.200345            1.60  \n",
       "2       0.27  25.62  0.748031  0.189633  1.516949            1.40  \n",
       "3       0.27  22.83  0.669291  0.162402  1.630670            1.10  \n",
       "4       0.62  27.78  0.618421  0.257218  1.448747            2.16  \n",
       "..       ...    ...       ...       ...       ...             ...  \n",
       "159     2.62  32.70  0.250000  0.138000  1.393805            2.49  \n",
       "160     2.03  34.20  0.370000  0.185000  1.452174            2.86  \n",
       "161     1.01  32.60  0.370000  0.185000  1.452174            2.56  \n",
       "162     0.71   4.08  0.140044  0.046597  1.588764            2.31  \n",
       "163     0.62   5.55  0.140044  0.045026  1.681395            2.83  \n",
       "\n",
       "[155 rows x 12 columns]"
      ]
     },
     "execution_count": 137,
     "metadata": {},
     "output_type": "execute_result"
    }
   ],
   "source": [
    "#displaying database to ensure everything is OK. \n",
    "Inventory"
   ]
  },
  {
   "cell_type": "code",
   "execution_count": 3,
   "metadata": {},
   "outputs": [],
   "source": [
    "#######################################################\n",
    "# Defining input variables and responses\n",
    "########################################################\n",
    "FeaturesNames=[\"$\\lambda_b$\",\"$v_{max}/\\sqrt{f'_c}$\",\"$P/f'_cA_g$\",\"$A_{sh,pr/req}$\",\"$s/d_b$\",r\"$\\rho_{l,BE}$\",r\"$\\rho_{t,w}$\",\"$c/l_w$\",\"$h_x/b$\",\"$l_{BE}/l_w$\",\"$f_u/f_y$\"]\n",
    "Y= Inventory[['Ultimate_drift']].values\n",
    "#getting All Feature Names\n",
    "ColHead=list(Inventory.columns.values)\n",
    "IdxFeature=list(range(11))\n",
    "FeaturesList= list(ColHead[i] for i in IdxFeature)\n",
    "# Getting Feature values\n",
    "X = Inventory[FeaturesList].values"
   ]
  },
  {
   "cell_type": "code",
   "execution_count": null,
   "metadata": {},
   "outputs": [],
   "source": [
    "#######################################################\n",
    "# Plotting features to see how they look like\n",
    "########################################################\n",
    "p = sns.pairplot(X,height=1.5,corner=True, grid_kws={\"despine\": False}, diag_kws=dict(color='b', fill=False, kde=True),plot_kws=dict(marker=\"o\", facecolor='w', edgecolor='k', linewidth=1))\n",
    "sns.set_context(\"notebook\", font_scale=2)\n",
    "plt.savefig('Statistics.pdf',format='pdf', dpi=1800)"
   ]
  },
  {
   "cell_type": "code",
   "execution_count": 38,
   "metadata": {},
   "outputs": [],
   "source": [
    "########################################################\n",
    "#splitting data to train surrogates models\n",
    "########################################################\n",
    "from sklearn.model_selection import train_test_split\n",
    "rows_num=range(len(Inventory.index))\n",
    "X_train, X_test,Y_train, Y_test, indices_train,indices_test = train_test_split(X,Y, rows_num, test_size = 0.3)\n",
    "#normalizing data\n",
    "from sklearn.preprocessing import StandardScaler\n",
    "from sklearn.preprocessing import MinMaxScaler\n",
    "#scaling features\n",
    "scalerX = MinMaxScaler()\n",
    "X_train = scalerX.fit_transform(X_train)\n",
    "X_test = scalerX.transform(X_test)\n",
    "scalerY = StandardScaler()\n",
    "#Just to be consistent!\n",
    "Y_train=np.array(Y_train)\n",
    "Y_test=np.array(Y_test)\n",
    "#scaling Y for SVM and XGboost!\n",
    "Y_trainSC=scalerY.fit_transform(Y_train)\n",
    "Y_testSC=scalerY.transform(Y_test)"
   ]
  },
  {
   "cell_type": "code",
   "execution_count": 46,
   "metadata": {},
   "outputs": [],
   "source": [
    "########################################################\n",
    "#saving partitioned data fore reuse\n",
    "########################################################\n",
    "#pd.DataFrame(indices_train).to_csv(\"index_train2.csv\",index=None)\n",
    "#pd.DataFrame(indices_test).to_csv(\"index_test2.csv\",index=None)"
   ]
  },
  {
   "cell_type": "code",
   "execution_count": 6,
   "metadata": {},
   "outputs": [],
   "source": [
    "########################################################\n",
    "#Plotting testing and training and calculating accuracy metrics\n",
    "########################################################\n",
    "\n",
    "def ResultPlot(y_train,y_test,y_pred_train,y_pred_test, FileName,marker,color ):\n",
    "    #this is just a plotting function that compare testing and training\n",
    "    f = plt.figure(figsize=(4, 4))\n",
    "    ax1 = f.add_subplot(111)\n",
    "    plt.rcParams[\"font.family\"] = \"Times New Roman\"\n",
    "    plt.rc('font', family='Times New Roman', weight='normal', size=16)\n",
    "    ax1.scatter(y_train, y_pred_train, marker='o', facecolor = color,alpha=0.5,edgecolor=color, label='Train')\n",
    "    ax1.scatter(y_test, y_pred_test, marker=marker, facecolors='k', edgecolor='k', label='Test')\n",
    "    ax1.set_xticks([0,2.5,5])\n",
    "    ax1.set_yticks([0,2.5,5])\n",
    "    ax1.set_xlim([0 ,5])\n",
    "    ax1.set_ylim([0 ,5])\n",
    "    ax1.set_xlabel('Observed drift (%)', family='Times New Roman', weight='normal', size=18)\n",
    "    ax1.set_ylabel('Predicted drift (%)', family='Times New Roman', weight='normal', size=18)\n",
    "    ax1.minorticks_on()\n",
    "    ax1.grid(b=True, which='major', color='k', linestyle=\"-\", linewidth=0.5, alpha=0.5)\n",
    "    ax1.grid(b=True, which='minor', color='k', linestyle=\"--\", linewidth=0.5, alpha=0.3)\n",
    "    diag_line1, = ax1.plot([0,130], [0,130], ls=\"-\",color = 'k', linewidth=1.0)\n",
    "    leg = plt.legend(loc='lower right')\n",
    "    leg.get_frame().set_edgecolor('k')\n",
    "    plt.savefig(FileName,format='pdf', dpi=1800,bbox_inches=\"tight\")\n",
    "    plt.show()\n",
    "    \n",
    "########################################################\n",
    "#Model accuracy summary\n",
    "#focus on adjusted R2, RMSE, MAE\n",
    "########################################################\n",
    "\n",
    "def CrossValSummary(X_train,X_test,y_train,y_test,y_pred_train,y_pred_test,reg,p):  \n",
    "    print('----------Model Summary------------')\n",
    "    print('R-squared of regressor on training set: {:.2f}'\n",
    "     .format(1-(1-(reg.score(X_train, y_train)))*(len(X_train)-1)/(len(X_train)-p-1)))\n",
    "    print('R-squared of regressor on test set: {:.2f}'\n",
    "     .format(1-(1-(reg.score(X_test, y_test)))*(len(X_test)-1)/(len(X_test)-p-1)))\n",
    "    print('RMSE of regressor on train set: {:.10f}'\n",
    "     .format(np.sqrt(metrics.mean_squared_error(y_train,y_pred_train))))\n",
    "    print('RMSE of regressor on test set: {:.10f}'\n",
    "     .format(np.sqrt(metrics.mean_squared_error(y_test,y_pred_test))))\n",
    "    print('MAE of regressor on train set: {:.10f}'\n",
    "     .format(np.sqrt(mae(y_train,y_pred_train))))\n",
    "    print('MAE of regressor on test set: {:.10f}'\n",
    "     .format(np.sqrt(mae(y_test,y_pred_test))))\n"
   ]
  },
  {
   "cell_type": "code",
   "execution_count": 189,
   "metadata": {},
   "outputs": [
    {
     "name": "stdout",
     "output_type": "stream",
     "text": [
      "Best Score: -0.37313290786136266\n",
      "Best Hyperparameters: {'n_estimators': 161, 'min_samples_split': 7, 'max_depth': 161}\n"
     ]
    }
   ],
   "source": [
    "#################################\n",
    "#performign Randomized search to hypertune RF models!\n",
    "#################################\n",
    "from sklearn.ensemble import RandomForestRegressor\n",
    "IdxX=list([0,4,8,9])\n",
    "\n",
    "##################################\n",
    "#use grid search to tune hyperparameters of RF!\n",
    "#Please note that the features were selected using a different code based on RFE algorithms (not part of this notebook)\n",
    "#################################\n",
    "parameters_for_testing = {\n",
    "    \n",
    "     'n_estimators':[int(x) for x in np.arange(155,165,1)],\n",
    "     'max_depth':[int(x) for x in np.arange(155,165,1)], \n",
    "     'min_samples_split':[int(x) for x in np.arange(5,8,1)],\n",
    "\n",
    "}\n",
    "\n",
    "                    \n",
    "RF_model = RandomForestRegressor()\n",
    "gs = GridSearchCV(estimator = RF_model, param_grid = parameters_for_testing, n_jobs=5,cv=2, verbose=10,scoring='neg_mean_squared_error')\n",
    "gs.fit(X_train[:,IdxX],Y_train)\n",
    "print('best params')\n",
    "print (gs.best_params_)\n",
    "\n",
    "#################################\n",
    "#Random forest model fitting\n",
    "#################################\n",
    "regressorForest = RandomForestRegressor(n_estimators = gs.best_params_['n_estimators'],\n",
    "                                        max_depth=gs.best_params_['max_depth'], min_samples_split=gs.best_params_['min_samples_split'])\n",
    "regressorForest.fit(X_train[:,IdxX], Y_train)\n",
    "#prediction\n",
    "y_train_predForest=regressorForest.predict(X_train[:,IdxX])\n",
    "y_test_predForest=regressorForest.predict(X_test[:,IdxX])\n",
    "#plotting results\n",
    "#plotting results\n",
    "ResultPlot(Y_train,Y_test,y_train_predForest,y_test_predForest,'RF.pdf','.','r')\n",
    "CrossValSummary(X_train[:,IdxX],X_test[:,IdxX],Y_train,Y_test,y_train_predForest,y_test_predForest,regressorForest,len(IdxX))"
   ]
  },
  {
   "cell_type": "code",
   "execution_count": 191,
   "metadata": {
    "scrolled": false
   },
   "outputs": [
    {
     "data": {
      "image/png": "[encoded data removed]",
      "text/plain": [
       "<Figure size 403.2x172.8 with 2 Axes>"
      ]
     },
     "metadata": {
      "needs_background": "light"
     },
     "output_type": "display_data"
    }
   ],
   "source": [
    "######################################\n",
    "# doing shapely analysis\n",
    "######################################3\n",
    "explainer = shap.TreeExplainer(regressorForest)\n",
    "shap_RF = explainer.shap_values(X_test[:,IdxX])\n",
    "shap.summary_plot(shap_RF, X_test[:,IdxX],show=False)\n",
    "w, _ = plt.gcf().get_size_inches()\n",
    "plt.gcf().set_size_inches(w*0.7, w*0.3)\n",
    "fig, ax = plt.gcf(), plt.gca()\n",
    "ax.set_xticks([-1.5,-0.5 ,0,0.5,1.5], size=18)\n",
    "ax.set_xlabel('SHAP values')\n",
    "plt.tight_layout()\n",
    "plt.savefig(\"Shap_summary_RF.pdf\",format='pdf', dpi=1800,bbox_inches=\"tight\")\n",
    "plt.show()"
   ]
  },
  {
   "cell_type": "code",
   "execution_count": 12,
   "metadata": {},
   "outputs": [
    {
     "data": {
      "image/png": "[encoded data removed]",
      "text/plain": [
       "<Figure size 432x288 with 1 Axes>"
      ]
     },
     "metadata": {
      "needs_background": "light"
     },
     "output_type": "display_data"
    }
   ],
   "source": [
    "Names= list(FeaturesNames[i] for i in IdxX)\n",
    "importanceFac = regressorForest.feature_importances_\n",
    "indices = np.argsort(importanceFac)\n",
    "plt.barh(range(len(indices)), importanceFac[indices], color='r' ,edgecolor='k', linewidth=2,align='center')\n",
    "plt.yticks(range(len(indices)), [Names[i] for i in indices], fontsize=20)\n",
    "plt.xticks([0,0.2,0.4,0.6,0.8],fontsize=24)\n",
    "plt.savefig('RF_importance.pdf',format='pdf', dpi=1800,bbox_inches=\"tight\")\n",
    "plt.show()"
   ]
  },
  {
   "cell_type": "code",
   "execution_count": 147,
   "metadata": {
    "scrolled": true
   },
   "outputs": [
    {
     "name": "stdout",
     "output_type": "stream",
     "text": [
      "Fitting 3 folds for each of 200 candidates, totalling 600 fits\n",
      "best params\n",
      "{'C': 1.0, 'gamma': 3.01, 'kernel': 'rbf'}\n"
     ]
    },
    {
     "name": "stderr",
     "output_type": "stream",
     "text": [
      "The 'b' parameter of grid() has been renamed 'visible' since Matplotlib 3.5; support for the old name will be dropped two minor releases later.\n",
      "The 'b' parameter of grid() has been renamed 'visible' since Matplotlib 3.5; support for the old name will be dropped two minor releases later.\n"
     ]
    },
    {
     "data": {
      "image/png": "[encoded data removed]",
      "text/plain": [
       "<Figure size 288x288 with 1 Axes>"
      ]
     },
     "metadata": {
      "needs_background": "light"
     },
     "output_type": "display_data"
    },
    {
     "name": "stdout",
     "output_type": "stream",
     "text": [
      "----------Model Summary------------\n",
      "R-squared of regressor on training set: 0.55\n",
      "R-squared of regressor on test set: 0.44\n",
      "RMSE of regressor on train set: 0.4257456075\n",
      "RMSE of regressor on test set: 0.4682931693\n",
      "Mean R2 on training is 0.18 with a std of 0.33\n",
      "Mean R2 on test is -0.63 with a std of 1.59\n",
      "MAE of regressor on train set: 0.5533248911\n",
      "MAE of regressor on test set: 0.5839234601\n"
     ]
    }
   ],
   "source": [
    "##################################\n",
    "#Training SVM model\n",
    "#################################\n",
    "\n",
    "IdxX=[0,7,9,10]\n",
    "from sklearn.svm import SVR\n",
    "##################################\n",
    "#use grid search to tune hyperparameters of SVM!\n",
    "#Please note that the features were selected using a different code based on RFE algorithms (not part of this notebook)\n",
    "#################################\n",
    "parameters_for_testing = {\n",
    "     'gamma'           : [i/100 for i in range(1,500,50)],\n",
    "     'C'               : [i/10 for i in range(10,1000,50)],\n",
    "     'kernel'           : ['rbf'], \n",
    "}\n",
    "                   \n",
    "SVR_model = SVR()\n",
    "gs = GridSearchCV(estimator = SVR_model, param_grid = parameters_for_testing, n_jobs=5,cv=3, verbose=10,scoring='neg_mean_squared_error')\n",
    "gs.fit(X_train[:,IdxX],Y_trainSC.ravel())\n",
    "print('best params')\n",
    "print (gs.best_params_)\n",
    "##################################################\n",
    "#fitting SVR\n",
    "##################################################\n",
    "from sklearn.svm import SVR\n",
    "regressorSVR=SVR(C=gs.best_params_['C'], kernel='rbf',gamma=gs.best_params_['gamma'])\n",
    "regressorSVR.fit(X_train[:,IdxX],Y_trainSC.ravel())\n",
    "##prediction\n",
    "y_train_predSVR=regressorSVR.predict(X_train[:,IdxX])\n",
    "y_train_predSVR=scalerY.inverse_transform(y_train_predSVR.reshape(-1,1))\n",
    "y_test_predSVR=regressorSVR.predict(X_test[:,IdxX])\n",
    "y_test_predSVR=scalerY.inverse_transform(y_test_predSVR.reshape(-1,1))\n",
    "##################################################\n",
    "#model summary\n",
    "##################################################\n",
    "ResultPlot(Y_train,Y_test,y_train_predSVR,y_test_predSVR,'SVR.pdf','.','b')"
   ]
  },
  {
   "cell_type": "code",
   "execution_count": 151,
   "metadata": {},
   "outputs": [
    {
     "name": "stderr",
     "output_type": "stream",
     "text": [
      "X has feature names, but MinMaxScaler was fitted without feature names\n"
     ]
    },
    {
     "data": {
      "application/vnd.jupyter.widget-view+json": {
       "model_id": "63d942b2fce24425a05a3d4f1ca71a12",
       "version_major": 2,
       "version_minor": 0
      },
      "text/plain": [
       "  0%|          | 0/47 [00:00<?, ?it/s]"
      ]
     },
     "metadata": {},
     "output_type": "display_data"
    },
    {
     "data": {
      "image/png": "[encoded data removed]",
      "text/plain": [
       "<Figure size 403.2x172.8 with 2 Axes>"
      ]
     },
     "metadata": {
      "needs_background": "light"
     },
     "output_type": "display_data"
    }
   ],
   "source": [
    "######################################\n",
    "# doing shapely analysis\n",
    "######################################3\n",
    "X_shap = scalerX.transform(Inventory[FeaturesList])\n",
    "X_shap = pd.DataFrame(X_shap, columns = FeaturesList)\n",
    "shap_SVR = shap.KernelExplainer(regressorSVR.predict,X_test[:,IdxX])\n",
    "shap_SVR_values = shap_SVR.shap_values(X_test[:,IdxX])\n",
    "shap.summary_plot(shap_SVR_values, X_test[:,IdxX],show=False)\n",
    "w, _ = plt.gcf().get_size_inches()\n",
    "plt.gcf().set_size_inches(w*0.7, w*0.3)\n",
    "fig, ax = plt.gcf(), plt.gca()\n",
    "ax.set_xticks([-2,-1 ,0,1,2], size=18)\n",
    "ax.set_xlabel('SHAP values')\n",
    "plt.tight_layout()\n",
    "plt.savefig(\"Shap_summary_SVM.pdf\",format='pdf', dpi=1800,bbox_inches=\"tight\")\n",
    "plt.show()"
   ]
  },
  {
   "cell_type": "code",
   "execution_count": 66,
   "metadata": {},
   "outputs": [
    {
     "data": {
      "image/png": "[encoded data removed]",
      "text/plain": [
       "<Figure size 432x288 with 1 Axes>"
      ]
     },
     "metadata": {
      "needs_background": "light"
     },
     "output_type": "display_data"
    }
   ],
   "source": [
    "from sklearn.inspection import permutation_importance\n",
    "Names= list(FeaturesNames[i] for i in IdxX)\n",
    "perm_importance = permutation_importance(regressorSVR, X_test[:,IdxX], Y_testSC.ravel())\n",
    "indices = perm_importance.importances_mean.argsort()\n",
    "plt.barh(range(len(indices)), perm_importance.importances_mean[indices], color='b' ,edgecolor='k', linewidth=2,align='center')\n",
    "plt.yticks(range(len(indices)), [Names[i] for i in indices], fontsize=20)\n",
    "plt.xticks([0,0.2,0.4,0.6,0.8,1],fontsize=24)\n",
    "plt.savefig('SVM_importance.pdf',format='pdf', dpi=1800,bbox_inches=\"tight\")\n",
    "plt.show()"
   ]
  }
 ],
 "metadata": {
  "kernelspec": {
   "display_name": "Python 3 (ipykernel)",
   "language": "python",
   "name": "python3"
  },
  "language_info": {
   "codemirror_mode": {
    "name": "ipython",
    "version": 3
   },
   "file_extension": ".py",
   "mimetype": "text/x-python",
   "name": "python",
   "nbconvert_exporter": "python",
   "pygments_lexer": "ipython3",
   "version": "3.9.12"
  }
 },
 "nbformat": 4,
 "nbformat_minor": 4
}
